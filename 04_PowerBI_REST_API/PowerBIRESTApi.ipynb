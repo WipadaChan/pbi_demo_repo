{
 "cells": [
  {
   "cell_type": "code",
   "execution_count": 112,
   "metadata": {
    "collapsed": false,
    "jupyter": {
     "outputs_hidden": false,
     "source_hidden": false
    },
    "nteract": {
     "transient": {
      "deleting": false
     }
    }
   },
   "outputs": [],
   "source": [
    "import requests\n",
    "import json\n",
    "\n",
    "application_id = \"xxxxxxxxxxxxxx\"\n",
    "user_id = \"xxxxxxxxxxxxxx\"\n",
    "application_secret =\"xxxxxxxxxxxxxx\"\n"
   ]
  },
  {
   "cell_type": "code",
   "execution_count": 107,
   "metadata": {},
   "outputs": [
    {
     "name": "stdin",
     "output_type": "stream",
     "text": [
      " ············\n"
     ]
    }
   ],
   "source": [
    "import getpass\n",
    "user_password = getpass.getpass()"
   ]
  },
  {
   "cell_type": "code",
   "execution_count": 110,
   "metadata": {},
   "outputs": [],
   "source": [
    "GROUP_ID = 'xxxxxxxxxxxxxx'  # The id of the workspace containing the report you want to embed\n",
    "REPORT_ID = 'xxxxxxxxxxxxxx'  # The id of the report you want to embed\n",
    "\n",
    "\n",
    "def get_access_token(application_id, application_secret, user_id, user_password):\n",
    "    data = {\n",
    "        'grant_type': 'password',\n",
    "        'scope': 'openid',\n",
    "        'resource': \"https://analysis.windows.net/powerbi/api\",\n",
    "        'client_id': application_id,\n",
    "        'client_secret': application_secret,\n",
    "        'username': user_id,\n",
    "        'password': user_password\n",
    "    }\n",
    "    token = requests.post(\"https://login.microsoftonline.com/common/oauth2/token\", data=data)\n",
    "    assert token.status_code == 200, \"Fail to retrieve token: {}\".format(token.text)\n",
    "    #print(\"Got access token: \")\n",
    "    #print(token.json())\n",
    "    return token.json()['access_token']\n"
   ]
  },
  {
   "cell_type": "code",
   "execution_count": 114,
   "metadata": {},
   "outputs": [],
   "source": [
    "access_token = get_access_token(application_id,application_secret,user_id,user_password)"
   ]
  },
  {
   "cell_type": "markdown",
   "metadata": {},
   "source": [
    "## Create Dataset\n"
   ]
  },
  {
   "cell_type": "code",
   "execution_count": 115,
   "metadata": {},
   "outputs": [],
   "source": [
    "data_str={\n",
    "   \"name\":\"SalesMarketing\",\n",
    "   \"defaultMode\": \"Push\",\n",
    "   \"tables\":[\n",
    "      {\n",
    "         \"name\":\"Sales\",\n",
    "         \"columns\":[\n",
    "            {\n",
    "               \"name\":\"OrderNumber\",\n",
    "               \"dataType\":\"string\"\n",
    "            },\n",
    "            {\n",
    "               \"name\":\"OrderDate\",\n",
    "               \"dataType\":\"DateTime\"\n",
    "            },\n",
    "            {\n",
    "               \"name\":\"ShipDate\",\n",
    "               \"dataType\":\"DateTime\"\n",
    "            },\n",
    "            {\n",
    "               \"name\":\"ProductID\",\n",
    "               \"dataType\":\"Int64\"\n",
    "            },\n",
    "            {\n",
    "               \"name\":\"Quantity\",\n",
    "               \"dataType\":\"Int64\"\n",
    "            },\n",
    "            {\n",
    "               \"name\":\"UnitPrice\",\n",
    "               \"dataType\":\"Double\"\n",
    "            },\n",
    "            {\n",
    "               \"name\":\"DiscountAmount\",\n",
    "               \"dataType\":\"Double\"\n",
    "            },\n",
    "            {\n",
    "               \"name\":\"PromotionCode\",\n",
    "               \"dataType\":\"string\"\n",
    "            },\n",
    "            {\n",
    "               \"name\":\"OriginationStateID\",\n",
    "               \"dataType\":\"Int64\"\n",
    "            },\n",
    "            {\n",
    "               \"name\":\"TotalAmount\",\n",
    "               \"dataType\":\"Double\"\n",
    "            }\n",
    "         ]\n",
    "      }\n",
    "   ]\n",
    "}"
   ]
  },
  {
   "cell_type": "code",
   "execution_count": 116,
   "metadata": {},
   "outputs": [],
   "source": [
    "# This will create dataset in My Workspace\n",
    "create_dataset_url ='https://api.powerbi.com/v1.0/myorg/datasets'\n",
    "# To create on specific Workspace \n",
    "create_dataset_url_grp = f'https://api.PowerBI.com/v1.0/myorg/groups/{GROUP_ID}/datasets'\n",
    "header = {'Authorization': f'Bearer {access_token}'}\n",
    "create_dataset = requests.post(url=create_dataset_url_grp, headers=header, data=json.dumps(data_str))"
   ]
  },
  {
   "cell_type": "code",
   "execution_count": 117,
   "metadata": {},
   "outputs": [
    {
     "data": {
      "text/plain": [
       "201"
      ]
     },
     "execution_count": 117,
     "metadata": {},
     "output_type": "execute_result"
    }
   ],
   "source": [
    "create_dataset.status_code"
   ]
  },
  {
   "cell_type": "code",
   "execution_count": 118,
   "metadata": {},
   "outputs": [
    {
     "data": {
      "text/plain": [
       "{'@odata.context': 'http://wabi-us-east2-redirect.analysis.windows.net/v1.0/myorg/groups/652c9b66-8898-4e5d-8b1c-810b8ed82194/$metadata#datasets/$entity',\n",
       " 'id': '886823a1-4945-4a0e-addb-ea80087b5ba8',\n",
       " 'name': 'SalesMarketing',\n",
       " 'defaultRetentionPolicy': 'None',\n",
       " 'targetStorageMode': 'Unknown',\n",
       " 'upstreamDatasets': [],\n",
       " 'schemaMayNotBeUpToDate': False,\n",
       " 'users': []}"
      ]
     },
     "execution_count": 118,
     "metadata": {},
     "output_type": "execute_result"
    }
   ],
   "source": [
    "create_dataset.json()"
   ]
  },
  {
   "cell_type": "markdown",
   "metadata": {},
   "source": [
    "## Extract Dataset ID and table name"
   ]
  },
  {
   "cell_type": "code",
   "execution_count": 120,
   "metadata": {},
   "outputs": [],
   "source": [
    "dataset_id=create_dataset.json()['id']\n",
    "table_name=data_str['tables'][0]['name']"
   ]
  },
  {
   "cell_type": "markdown",
   "metadata": {},
   "source": [
    "## Push row to dataset"
   ]
  },
  {
   "cell_type": "code",
   "execution_count": 121,
   "metadata": {},
   "outputs": [],
   "source": [
    "content={\n",
    "  \"rows\": [\n",
    "    {\n",
    "      \"OrderNumber\": \"TT02260499\",\n",
    "      \"OrderDate\": \"10/5/2021\",\n",
    "      \"ShipDate\": \"10/6/2021\",\n",
    "      \"ProductID\": 12,\n",
    "      \"Quantity\": 1,\n",
    "      \"UnitPrice\": 324.95,\n",
    "      \"DiscountAmount\": 0,\n",
    "      \"PromotionCode\": \"\",\n",
    "      \"OriginationStateID\": 3,\n",
    "      \"TotalAmount\": 324.95\n",
    "    },\n",
    "    {\n",
    "      \"OrderNumber\": \"TT02260500\",\n",
    "      \"OrderDate\": \"10/5/2021\",\n",
    "      \"ShipDate\": \"10/6/2021\",\n",
    "      \"ProductID\": 12,\n",
    "      \"Quantity\": 1,\n",
    "      \"UnitPrice\": 324.95,\n",
    "      \"DiscountAmount\": 0,\n",
    "      \"PromotionCode\": \"\",\n",
    "      \"OriginationStateID\": 3,\n",
    "      \"TotalAmount\": 3899.4\n",
    "    }\n",
    "  ]\n",
    "}"
   ]
  },
  {
   "cell_type": "code",
   "execution_count": 122,
   "metadata": {},
   "outputs": [],
   "source": [
    "# This will post row to dataset on MyWorkspace\n",
    "push_row_url = f'https://api.powerbi.com/v1.0/myorg/datasets/{dataset_id}/tables/{table_name}/rows'\n",
    "# This will post row to dataset on Specific workspace\n",
    "push_row_url_grp = f'https://api.powerbi.com/v1.0/myorg/groups/{GROUP_ID}/datasets/{dataset_id}/tables/{table_name}/rows'\n",
    "header = {'Authorization': f'Bearer {access_token}'}\n",
    "pushrow = requests.post(url=push_row_url_grp, headers=header, data=json.dumps(content))"
   ]
  },
  {
   "cell_type": "code",
   "execution_count": 123,
   "metadata": {},
   "outputs": [
    {
     "data": {
      "text/plain": [
       "200"
      ]
     },
     "execution_count": 123,
     "metadata": {},
     "output_type": "execute_result"
    }
   ],
   "source": [
    "pushrow.status_code"
   ]
  },
  {
   "cell_type": "code",
   "execution_count": null,
   "metadata": {},
   "outputs": [],
   "source": []
  }
 ],
 "metadata": {
  "kernel_info": {
   "name": "python3-azureml"
  },
  "kernelspec": {
   "display_name": "Python 3.6 - AzureML",
   "language": "python",
   "name": "python3-azureml"
  },
  "language_info": {
   "codemirror_mode": {
    "name": "ipython",
    "version": 3
   },
   "file_extension": ".py",
   "mimetype": "text/x-python",
   "name": "python",
   "nbconvert_exporter": "python",
   "pygments_lexer": "ipython3",
   "version": "3.6.9"
  },
  "nteract": {
   "version": "nteract-front-end@1.0.0"
  }
 },
 "nbformat": 4,
 "nbformat_minor": 4
}
