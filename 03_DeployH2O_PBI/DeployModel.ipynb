{
  "cells": [
    {
      "cell_type": "code",
      "source": [
        "# azureml-core of version 1.0.72 or higher is required\n",
        "# azureml-dataprep[pandas] of version 1.1.34 or higher is required\n",
        "from azureml.core import Workspace, Dataset\n",
        "\n",
        "subscription_id = 'XXXXXX-XXXX-XXXX-XXXX-XXXXXXXXXXXX'\n",
        "resource_group = 'ResourceGroupName'\n",
        "workspace_name = 'AzureMLWorkspaceName'\n",
        "\n",
        "ws = Workspace.get(name=workspace_name, subscription_id=subscription_id, resource_group=resource_group )\n",
        "\n"
      ],
      "outputs": [],
      "execution_count": 1,
      "metadata": {
        "gather": {
          "logged": 1613638198906
        }
      }
    },
    {
      "cell_type": "code",
      "source": [
        "from azureml.core.model import Model\n",
        "# Here is where you specify location of your stored H2O model\n",
        "model = Model.register(model_path=\"H2o/KMeans_model_python_1619773255297_1\",\n",
        "                          model_name=\"CustomerSegment\",\n",
        "                          description=\"Classify customer segment use K-Means Clustering\",\n",
        "                          workspace=ws)"
      ],
      "outputs": [
        {
          "output_type": "stream",
          "name": "stdout",
          "text": [
            "Registering model CustomerSegment\n"
          ]
        }
      ],
      "execution_count": 2,
      "metadata": {
        "collapsed": true,
        "jupyter": {
          "source_hidden": false,
          "outputs_hidden": false
        },
        "nteract": {
          "transient": {
            "deleting": false
          }
        },
        "gather": {
          "logged": 1613638201571
        }
      }
    },
    {
      "cell_type": "code",
      "source": [
        "from azureml.core import Environment\n",
        "#Prepare Docker and requier dependency \n",
        "myenv = Environment(name=\"myenv\")\n",
        "myenv.docker.enabled = True\n",
        "\n",
        "# Specify docker steps as a string.\n",
        "dockerfile = r'''\n",
        "FROM mcr.microsoft.com/azureml/intelmpi2018.3-ubuntu16.04\n",
        "\n",
        "# Install OpenJDK-8\n",
        "RUN apt-get update && \\\n",
        "    apt-get install -y openjdk-8-jdk && \\\n",
        "    apt-get install -y ant && \\\n",
        "    apt-get clean;\n",
        "\n",
        "# Fix certificate issues\n",
        "RUN apt-get update && \\\n",
        "    apt-get install ca-certificates-java && \\\n",
        "    apt-get clean && \\\n",
        "    update-ca-certificates -f;\n",
        "\n",
        "# Setup JAVA_HOME -- useful for docker commandline\n",
        "ENV JAVA_HOME /usr/lib/jvm/java-8-openjdk-amd64/\n",
        "RUN export JAVA_HOME\n",
        "\n",
        "# Install H2O on python requirements\n",
        "RUN pip install requests && \\\n",
        "    pip install tabulate && \\\n",
        "    pip install six && \\\n",
        "    pip install future && \\\n",
        "    pip install colorama\n",
        "\n",
        "# Expose H2O Flow UI port\n",
        "EXPOSE 54321\n",
        "\n",
        "# Install H2O\n",
        "RUN \\\n",
        "    pip uninstall h2o || true && \\\n",
        "    pip install -f http://h2o-release.s3.amazonaws.com/h2o/latest_stable_Py.html --trusted-host h2o-release.s3.amazonaws.com h2o\n",
        "\n",
        "'''\n",
        "\n",
        "# Alternatively, load from a file.\n",
        "#with open(\"dockerfiles/Dockerfile\", \"r\") as f:\n",
        "#    dockerfile=f.read()\n",
        "\n",
        "myenv.docker.base_dockerfile = dockerfile\n",
        "\n"
      ],
      "outputs": [
        {
          "output_type": "stream",
          "name": "stderr",
          "text": [
            "'enabled' is deprecated. Please use the azureml.core.runconfig.DockerConfiguration object with the 'use_docker' param instead.\n",
            "Property base_image is mutually exclusive with base_dockerfile. Reset base_image to None\n"
          ]
        }
      ],
      "execution_count": 3,
      "metadata": {
        "collapsed": true,
        "jupyter": {
          "source_hidden": false,
          "outputs_hidden": false
        },
        "nteract": {
          "transient": {
            "deleting": false
          }
        },
        "gather": {
          "logged": 1613657429692
        }
      }
    },
    {
      "cell_type": "code",
      "source": [
        "from azureml.core.model import InferenceConfig\n",
        "from azureml.core.environment import Environment\n",
        "from azureml.core.conda_dependencies import CondaDependencies\n",
        "\n",
        "# Create the environment\n",
        "\n",
        "conda_dep = CondaDependencies()\n",
        "\n",
        "# Define the packages needed by the model and scripts\n",
        "#conda_dep.add_conda_package(\"tensorflow\")\n",
        "conda_dep.add_conda_package(\"numpy\")\n",
        "conda_dep.add_conda_package(\"pandas\")\n",
        "# You must list azureml-defaults as a pip dependency\n",
        "conda_dep.add_pip_package(\"azureml-defaults\")\n",
        "# H2O version should be the same as the one you use when train model \n",
        "conda_dep.add_pip_package(\"h2o==3.32.0.4\")\n",
        "#conda_dep.add_pip_package(\"gensim\")\n",
        "\n",
        "# Adds dependencies to PythonSection of myenv\n",
        "myenv.python.conda_dependencies=conda_dep\n",
        "myenv.inferencing_stack_version='latest'\n",
        "\n",
        "for pip_package in [\"inference_schema\"]:\n",
        "    myenv.python.conda_dependencies.add_pip_package(pip_package)\n",
        "\n",
        "inference_config = InferenceConfig(entry_script=\"scoring.py\",   \n",
        "                                   environment=myenv)"
      ],
      "outputs": [],
      "execution_count": 4,
      "metadata": {
        "collapsed": true,
        "jupyter": {
          "source_hidden": false,
          "outputs_hidden": false
        },
        "nteract": {
          "transient": {
            "deleting": false
          }
        },
        "gather": {
          "logged": 1613699615146
        }
      }
    },
    {
      "cell_type": "code",
      "source": [
        "from azureml.core.webservice import AciWebservice, Webservice\n",
        "model = Model(ws, name='CustomerSegment')\n",
        "deployment_config = AciWebservice.deploy_configuration(cpu_cores = 1, memory_gb = 1)\n",
        "service = Model.deploy(ws, \"customersegment\", [model], inference_config, deployment_config)\n",
        "service.wait_for_deployment(show_output = True)\n",
        "print(service.state)\n",
        "print(\"scoring URI: \" + service.scoring_uri)"
      ],
      "outputs": [
        {
          "output_type": "stream",
          "name": "stdout",
          "text": [
            "Running...............................................\n",
            "Succeeded\n",
            "ACI service creation operation finished, operation \"Succeeded\"\n",
            "Healthy\n",
            "scoring URI: http://5302b192-de92-471a-954b-c9f219efb43a.southeastasia.azurecontainer.io/score\n"
          ]
        }
      ],
      "execution_count": 102,
      "metadata": {
        "collapsed": true,
        "jupyter": {
          "source_hidden": false,
          "outputs_hidden": false
        },
        "nteract": {
          "transient": {
            "deleting": false
          }
        },
        "gather": {
          "logged": 1613699875483
        }
      }
    },
    {
      "cell_type": "code",
      "source": [
        "#Test Calling Service \r\n",
        "X_df = pd.DataFrame(data=[{\r\n",
        "    \"CreditScore\": 619,\r\n",
        "    \"Tenure\": 2,\r\n",
        "    \"Balance\": 0.00,\r\n",
        "    \"NumOfProducts\": 1,\r\n",
        "    \"IsActiveMember\": 1,\r\n",
        "    \"EstimatedSalary\": 101348.88\r\n",
        "\r\n",
        "}])"
      ],
      "outputs": [],
      "execution_count": 98,
      "metadata": {
        "collapsed": true,
        "jupyter": {
          "source_hidden": false,
          "outputs_hidden": false
        },
        "nteract": {
          "transient": {
            "deleting": false
          }
        },
        "gather": {
          "logged": 1613699239971
        }
      }
    },
    {
      "cell_type": "code",
      "source": [
        "X_df.values.tolist()"
      ],
      "outputs": [
        {
          "output_type": "execute_result",
          "execution_count": 99,
          "data": {
            "text/plain": "[[0.0, 619.0, 101348.88, 1.0, 1.0, 2.0]]"
          },
          "metadata": {}
        }
      ],
      "execution_count": 99,
      "metadata": {
        "collapsed": true,
        "jupyter": {
          "source_hidden": false,
          "outputs_hidden": false
        },
        "nteract": {
          "transient": {
            "deleting": false
          }
        },
        "gather": {
          "logged": 1613699257332
        }
      }
    },
    {
      "cell_type": "code",
      "source": [
        "\r\n",
        "\r\n",
        "import json\r\n",
        "\r\n",
        "input_payload = json.dumps({\r\n",
        "    'data': X_df.values.tolist()\r\n",
        " # If you have a classification model, you can get probabilities by changing this to 'predict_proba'.\r\n",
        "})\r\n",
        "\r\n",
        "output = service.run(input_payload)\r\n",
        "\r\n",
        "print(output)"
      ],
      "outputs": [
        {
          "output_type": "stream",
          "name": "stdout",
          "text": [
            "[0]\n"
          ]
        }
      ],
      "execution_count": 103,
      "metadata": {
        "collapsed": true,
        "jupyter": {
          "source_hidden": false,
          "outputs_hidden": false
        },
        "nteract": {
          "transient": {
            "deleting": false
          }
        },
        "gather": {
          "logged": 1613700065627
        }
      }
    },
    {
      "cell_type": "code",
      "source": [],
      "outputs": [],
      "execution_count": null,
      "metadata": {
        "collapsed": true,
        "jupyter": {
          "source_hidden": false,
          "outputs_hidden": false
        },
        "nteract": {
          "transient": {
            "deleting": false
          }
        }
      }
    }
  ],
  "metadata": {
    "kernelspec": {
      "name": "python389jvsc74a57bd0af47c22777426cf9e97e8c6b34ce34e33eba279a16e35e3155bf2907e6db6b4b",
      "display_name": "Python 3.8.9 64-bit"
    },
    "language_info": {
      "name": "python",
      "version": "3.8.9",
      "mimetype": "text/x-python",
      "codemirror_mode": {
        "name": "ipython",
        "version": 3
      },
      "pygments_lexer": "ipython3",
      "nbconvert_exporter": "python",
      "file_extension": ".py"
    },
    "kernel_info": {
      "name": "python3-azureml"
    },
    "nteract": {
      "version": "nteract-front-end@1.0.0"
    },
    "metadata": {
      "interpreter": {
        "hash": "af47c22777426cf9e97e8c6b34ce34e33eba279a16e35e3155bf2907e6db6b4b"
      }
    }
  },
  "nbformat": 4,
  "nbformat_minor": 2
}